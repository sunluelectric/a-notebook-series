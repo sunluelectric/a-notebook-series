{
 "cells": [
  {
   "cell_type": "code",
   "execution_count": 1,
   "metadata": {},
   "outputs": [],
   "source": [
    "import numpy as np\n",
    "\n",
    "# create numpy array from python list\n",
    "x = np.array([1, 2, 3, 4, 5]) # 1d\n",
    "x = np.array([[1, 2], [3, 4]]) #2d\n",
    "\n",
    "# create numpy array/matrix using built-in functions\n",
    "x = np.arange(0, 5) # array([0, 1, 2, 3, 4])\n",
    "x = np.linspace(0, 5, 3) # array([0, 2.5, 5])\n",
    "x = np.zeros(5) # 1d zero vector\n",
    "x = np.zeros([5, 5]) # 2d zero matrix\n",
    "x = np.ones(5)\n",
    "x = np.ones([5, 5])\n",
    "x = np.eye(5)\n",
    "\n",
    "# create random vector/matrix\n",
    "np.random.seed(1) # set seed; optional\n",
    "x = np.random.rand(5, 5) # uniform distribution [0, 1)\n",
    "x = np.random.randn(5, 5) # standard normal distribution N(0, 1)\n",
    "\n",
    "# reshape\n",
    "x = np.random.randn(16)\n",
    "y = x.reshape(4, 4)\n",
    "y = x.reshape(1, 16) # return is always 2d matrix format, not 1d vector format"
   ]
  },
  {
   "cell_type": "code",
   "execution_count": 2,
   "metadata": {},
   "outputs": [],
   "source": [
    "import numpy as np\n",
    "\n",
    "x = np.random.randn(10)\n",
    "xmax = np.max(x)\n",
    "xargmax = np.argmax(x)\n",
    "xmin = np.min(x)\n",
    "xargmin = np.argmin(x)\n",
    "xsum = np.sum(x)\n",
    "xprod = np.prod(x)\n",
    "xmean = np.mean(x)\n",
    "xstd = np.std(x)\n",
    "xvar = np.var(x)\n",
    "xmedian = np.median(x)"
   ]
  },
  {
   "cell_type": "code",
   "execution_count": 3,
   "metadata": {},
   "outputs": [
    {
     "data": {
      "text/plain": [
       "array([15, 40])"
      ]
     },
     "execution_count": 3,
     "metadata": {},
     "output_type": "execute_result"
    }
   ],
   "source": [
    "import numpy as np\n",
    "\n",
    "x = np.array([[1,2,3,4,5], [6,7,8,9,10]])\n",
    "np.sum(x, axis=0) # array([ 7,  9, 11, 13, 15])\n",
    "np.sum(x, axis=1) # array([15, 40])"
   ]
  },
  {
   "cell_type": "code",
   "execution_count": 4,
   "metadata": {},
   "outputs": [
    {
     "data": {
      "text/plain": [
       "array([-1.54672407,  1.04520063,  1.01037548,  0.07083664,  0.71758983])"
      ]
     },
     "execution_count": 4,
     "metadata": {},
     "output_type": "execute_result"
    }
   ],
   "source": [
    "import numpy as np\n",
    "\n",
    "x = np.random.randn(10)\n",
    "x[1:5] # x[1], x[2], x[3] and x[4] are returned in an numpy array\n",
    "x[:5] # same as x[0:5]\n",
    "x[5:] # same as x[5:10]"
   ]
  },
  {
   "cell_type": "code",
   "execution_count": 5,
   "metadata": {},
   "outputs": [
    {
     "data": {
      "text/plain": [
       "array([2, 5, 8])"
      ]
     },
     "execution_count": 5,
     "metadata": {},
     "output_type": "execute_result"
    }
   ],
   "source": [
    "import numpy as np\n",
    "\n",
    "x = np.array([[1, 2, 3], [4, 5, 6], [7, 8, 9]])\n",
    "x[1, 2] # 6 (2nd row, 3rd column)\n",
    "x[0] # 1st row as a numpy array\n",
    "x[:,1] # 2nd column as a numpy array"
   ]
  },
  {
   "cell_type": "code",
   "execution_count": 6,
   "metadata": {},
   "outputs": [],
   "source": [
    "import numpy as np\n",
    "\n",
    "x = np.array([1, 2, 3, 4, 5])\n",
    "x[:] = 10 # all elements become 10"
   ]
  },
  {
   "cell_type": "code",
   "execution_count": 7,
   "metadata": {},
   "outputs": [
    {
     "data": {
      "text/plain": [
       "array([6, 7, 8, 9])"
      ]
     },
     "execution_count": 7,
     "metadata": {},
     "output_type": "execute_result"
    }
   ],
   "source": [
    "import numpy as np\n",
    "\n",
    "x = np.array([1, 2, 3, 4, 5, 6, 7, 8, 9])\n",
    "x > 5 # array([False, False, False, False, False,  True,  True,  True,  True])\n",
    "x[x>5] # array([6, 7, 8, 9])"
   ]
  }
 ],
 "metadata": {
  "kernelspec": {
   "display_name": "tflocal",
   "language": "python",
   "name": "python3"
  },
  "language_info": {
   "codemirror_mode": {
    "name": "ipython",
    "version": 3
   },
   "file_extension": ".py",
   "mimetype": "text/x-python",
   "name": "python",
   "nbconvert_exporter": "python",
   "pygments_lexer": "ipython3",
   "version": "3.11.3"
  },
  "orig_nbformat": 4
 },
 "nbformat": 4,
 "nbformat_minor": 2
}
