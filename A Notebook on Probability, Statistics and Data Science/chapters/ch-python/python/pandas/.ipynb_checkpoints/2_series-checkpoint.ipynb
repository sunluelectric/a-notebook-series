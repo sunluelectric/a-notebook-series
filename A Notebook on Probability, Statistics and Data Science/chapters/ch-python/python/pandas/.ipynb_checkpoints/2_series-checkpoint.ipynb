{
 "cells": [
  {
   "cell_type": "markdown",
   "id": "12cf5321",
   "metadata": {},
   "source": [
    "# Series\n",
    "\n",
    "Pandas series is the building block of data frame, and it is one of the most basic and important data type defined in pandas. The following pandas series operations are demonstrated in this notebook:\n",
    "- Create series from Python list, numpy array and Python dictionary\n",
    "- Check built-in attruibutes such as length, memory usage of a series\n",
    "- Operate series using built-in methods such as `.count()` to count the number of elements\n",
    "- Using aggregating functions to get a summary sheet of the series\n",
    "- Sorting\n",
    "- Series duplication\n",
    "- Access items in a series\n",
    "- Define element-wise operations using `.apply()` and `.map()`\n",
    "- Convert data types of series using `.astype()`"
   ]
  },
  {
   "cell_type": "code",
   "execution_count": 1,
   "id": "1205eb26",
   "metadata": {},
   "outputs": [],
   "source": [
    "import numpy as np\n",
    "import pandas as pd"
   ]
  },
  {
   "cell_type": "markdown",
   "id": "c56ff492",
   "metadata": {},
   "source": [
    "## Create Series from Scratch\n",
    "\n",
    "It has been introduced earlier how to obtain a series from a data frame column. This section introduces creating series from scratch. The data source used in this section include Python array, numpy array, and Python dictionary. Use `pandas.Series()` to create a series as follows.\n"
   ]
  },
  {
   "cell_type": "markdown",
   "id": "673aa269",
   "metadata": {},
   "source": [
    "### From Python Array"
   ]
  },
  {
   "cell_type": "code",
   "execution_count": 2,
   "id": "7fe7a260",
   "metadata": {},
   "outputs": [
    {
     "data": {
      "text/plain": [
       "0      a\n",
       "1      b\n",
       "2      c\n",
       "3    def\n",
       "dtype: object"
      ]
     },
     "execution_count": 2,
     "metadata": {},
     "output_type": "execute_result"
    }
   ],
   "source": [
    "series_example = pd.Series([\"a\", \"b\", \"c\", \"def\"])\n",
    "series_example"
   ]
  },
  {
   "cell_type": "code",
   "execution_count": 3,
   "id": "3434f9d2",
   "metadata": {},
   "outputs": [
    {
     "data": {
      "text/plain": [
       "0    123\n",
       "1    456\n",
       "2    789\n",
       "dtype: int64"
      ]
     },
     "execution_count": 3,
     "metadata": {},
     "output_type": "execute_result"
    }
   ],
   "source": [
    "series_example = pd.Series([123, 456, 789])\n",
    "series_example"
   ]
  },
  {
   "cell_type": "code",
   "execution_count": 4,
   "id": "39275c7f",
   "metadata": {},
   "outputs": [
    {
     "data": {
      "text/plain": [
       "0     True\n",
       "1    False\n",
       "2     True\n",
       "3    False\n",
       "dtype: bool"
      ]
     },
     "execution_count": 4,
     "metadata": {},
     "output_type": "execute_result"
    }
   ],
   "source": [
    "series_example = pd.Series([True, False, True, False])\n",
    "series_example"
   ]
  },
  {
   "cell_type": "code",
   "execution_count": 5,
   "id": "dc1872f9",
   "metadata": {},
   "outputs": [
    {
     "data": {
      "text/plain": [
       "0       a\n",
       "1     123\n",
       "2    True\n",
       "dtype: object"
      ]
     },
     "execution_count": 5,
     "metadata": {},
     "output_type": "execute_result"
    }
   ],
   "source": [
    "series_example = pd.Series([\"a\", 123, True])\n",
    "series_example"
   ]
  },
  {
   "cell_type": "code",
   "execution_count": 6,
   "id": "a3cf4e15",
   "metadata": {},
   "outputs": [
    {
     "name": "stdout",
     "output_type": "stream",
     "text": [
      "<class 'str'>\n",
      "<class 'int'>\n",
      "<class 'bool'>\n",
      "object\n"
     ]
    }
   ],
   "source": [
    "series_example = pd.Series([\"a\", 123, True])\n",
    "print(type(series_example[0]))\n",
    "print(type(series_example[1]))\n",
    "print(type(series_example[2]))\n",
    "print(series_example.dtype)"
   ]
  },
  {
   "cell_type": "markdown",
   "id": "a089a677",
   "metadata": {},
   "source": [
    "Data of different data types can be stored in the same series. The data retains its data type while stored in the series. A series also has a \"homogenious\" data type that is decided by all the elements in the series, which is given by the `.dtype` attribute.\n",
    "\n",
    "A summary of commonly used data types is given below. Notice that although pandas tries to interprete data types automatically based on the input, sometimes it may fail to do so and categorize everything into string values.\n",
    "\n",
    "| Data Type | Description |\n",
    "|:--------- |:----------- |\n",
    "| int64 | 64-bit integer |\n",
    "| int32 | 32-bit integer |\n",
    "| float64 | 64-bit floating-point number |\n",
    "| float32 | 32-bit floating-point number |\n",
    "| object | String values |\n",
    "| bool | Boolean values (True/False) |\n",
    "| datetime64\\[ns\\] | Date and time values |\n",
    "| category | Categorical variables |\n",
    "| NaN | Missing or null values |"
   ]
  },
  {
   "cell_type": "markdown",
   "id": "0eaa3c08",
   "metadata": {},
   "source": [
    "If no index is specified, auto-incremental index is used. Index can be specified as follows."
   ]
  },
  {
   "cell_type": "code",
   "execution_count": 7,
   "id": "f015213f",
   "metadata": {},
   "outputs": [
    {
     "data": {
      "text/plain": [
       "first     100\n",
       "second    200\n",
       "third     300\n",
       "dtype: int64"
      ]
     },
     "execution_count": 7,
     "metadata": {},
     "output_type": "execute_result"
    }
   ],
   "source": [
    "index = [\"first\", \"second\", \"third\"]\n",
    "values = [100, 200, 300]\n",
    "series_example = pd.Series(data=values, index=index)\n",
    "series_example"
   ]
  },
  {
   "cell_type": "markdown",
   "id": "392754f8",
   "metadata": {},
   "source": [
    "When index is specified, the items can be accessed by both the \"hidden\" auto-increment numerical index and the specified index."
   ]
  },
  {
   "cell_type": "code",
   "execution_count": 8,
   "id": "1823958d",
   "metadata": {},
   "outputs": [
    {
     "name": "stdout",
     "output_type": "stream",
     "text": [
      "100\n",
      "100\n"
     ]
    }
   ],
   "source": [
    "index = [\"first\", \"second\", \"third\"]\n",
    "values = [100, 200, 300]\n",
    "series_example = pd.Series(data=values, index=index)\n",
    "print(series_example[0])\n",
    "print(series_example[\"first\"])"
   ]
  },
  {
   "cell_type": "markdown",
   "id": "55930cd5",
   "metadata": {},
   "source": [
    "### From Numpy Array"
   ]
  },
  {
   "cell_type": "code",
   "execution_count": 9,
   "id": "ea688559",
   "metadata": {},
   "outputs": [
    {
     "data": {
      "text/plain": [
       "0    1.974779\n",
       "1   -0.745118\n",
       "2   -0.180925\n",
       "3    1.449197\n",
       "4    0.176615\n",
       "dtype: float64"
      ]
     },
     "execution_count": 9,
     "metadata": {},
     "output_type": "execute_result"
    }
   ],
   "source": [
    "series_example = pd.Series(np.random.randn(5))\n",
    "series_example"
   ]
  },
  {
   "cell_type": "markdown",
   "id": "64e271a1",
   "metadata": {},
   "source": [
    "### From Python Dictionary\n",
    "\n",
    "When creating pandas array from Python dictionary, the keys of the dictionary is automatically used as the index of the series."
   ]
  },
  {
   "cell_type": "code",
   "execution_count": 10,
   "id": "d708fbc7",
   "metadata": {},
   "outputs": [
    {
     "data": {
      "text/plain": [
       "first     100\n",
       "second    200\n",
       "third     300\n",
       "dtype: int64"
      ]
     },
     "execution_count": 10,
     "metadata": {},
     "output_type": "execute_result"
    }
   ],
   "source": [
    "dictionary = {\n",
    "    \"first\": 100,\n",
    "    \"second\": 200,\n",
    "    \"third\": 300,\n",
    "}\n",
    "series_example = pd.Series(dictionary)\n",
    "series_example"
   ]
  },
  {
   "cell_type": "markdown",
   "id": "34ee67ef",
   "metadata": {},
   "source": [
    "## Series Attributes\n",
    "\n",
    "Commonly used series attributes are summarized in the table below.\n",
    "\n",
    "| Attribute Name | Description |\n",
    "|:------ |:----------- |\n",
    "| .size | The length of the series. |\n",
    "| .shape | The shape (length in each dimension) of the series. |\n",
    "| .is_unique | A flag indicating whether there are duplications of values in the series. |\n",
    "| .hasnans | A flag indicating whether there is `NaN` in the series. |\n",
    "| .values | The values of the series. |\n",
    "| .index | The index of the series. |\n",
    "| .axes | A list of index that marks each dimension of the data set. In the case of series it is same with `.index`. |\n",
    "| .dtype | The data type of the series. |\n",
    "\n",
    "Examples to demonstrate the attributes are given below."
   ]
  },
  {
   "cell_type": "code",
   "execution_count": 11,
   "id": "b9c958f9",
   "metadata": {},
   "outputs": [
    {
     "name": "stdout",
     "output_type": "stream",
     "text": [
      "Title\n",
      "Minecraft                                           238000000\n",
      "Grand Theft Auto V                                  175000000\n",
      "Tetris (EA)                                         100000000\n",
      "Wii Sports                                           82900000\n",
      "PUBG: Battlegrounds                                  75000000\n",
      "Mario Kart 8 / Deluxe                                60460000\n",
      "Super Mario Bros.                                    58000000\n",
      "Red Dead Redemption 2                                50000000\n",
      "Pokémon Red / Green / Blue / Yellow                  47520000\n",
      "Terraria                                             44500000\n",
      "Wii Fit / Plus                                       43800000\n",
      "Tetris (1989)                                        43000000\n",
      "Pac-Man                                              42071635\n",
      "Animal Crossing: New Horizons                        41590000\n",
      "Human: Fall Flat                                     40000000\n",
      "The Witcher 3 / Hearts of Stone / Blood and Wine     40000000\n",
      "Mario Kart Wii                                       37380000\n",
      "Wii Sports Resort                                    33140000\n",
      "New Super Mario Bros.                                30800000\n",
      "The Legend of Zelda: Breath of the Wild              30700000\n",
      "Super Smash Bros. Ultimate                           30440000\n",
      "New Super Mario Bros. Wii                            30320000\n",
      "Call of Duty: Modern Warfare                         30000000\n",
      "Diablo III / Reaper of Souls                         30000000\n",
      "The Elder Scrolls V: Skyrim                          30000000\n",
      "Pokémon Gold / Silver / Crystal                      29490000\n",
      "Duck Hunt                                            28300000\n",
      "Wii Play                                             28020000\n",
      "The Walking Dead                                     28000000\n",
      "Grand Theft Auto: San Andreas                        27500000\n",
      "Super Mario World                                    26662500\n",
      "Call of Duty: Modern Warfare 3                       26500000\n",
      "Call of Duty: Black Ops                              26200000\n",
      "Borderlands 2                                        27000000\n",
      "Pokémon Sword / Shield                               25680000\n",
      "Pokémon Sun / Moon / Ultra Sun / Ultra Moon          25410000\n",
      "Super Mario Odyssey                                  25120000\n",
      "Grand Theft Auto IV                                  25000000\n",
      "Pokémon Diamond / Pearl / Platinum                   24730000\n",
      "Super Mario Bros. 3                                  24430000\n",
      "Call of Duty: Black Ops II                           24200000\n",
      "FIFA 18                                              24000000\n",
      "Kinect Adventures!                                   24000000\n",
      "Sonic the Hedgehog                                   23982960\n",
      "Nintendogs                                           23960000\n",
      "New Super Mario Bros. U / Luigi U / Deluxe           23640000\n",
      "Mario Kart DS                                        23600000\n",
      "Pokémon Ruby / Sapphire / Emerald                    23280000\n",
      "God of War                                           23000000\n",
      "Red Dead Redemption                                  23000000\n",
      "Name: Sales, dtype: int64\n",
      "size: 50\n",
      "shape: (50,)\n",
      "is_unique: False\n",
      "hasnans: False\n",
      "values: [238000000 175000000 100000000  82900000  75000000  60460000  58000000\n",
      "  50000000  47520000  44500000  43800000  43000000  42071635  41590000\n",
      "  40000000  40000000  37380000  33140000  30800000  30700000  30440000\n",
      "  30320000  30000000  30000000  30000000  29490000  28300000  28020000\n",
      "  28000000  27500000  26662500  26500000  26200000  27000000  25680000\n",
      "  25410000  25120000  25000000  24730000  24430000  24200000  24000000\n",
      "  24000000  23982960  23960000  23640000  23600000  23280000  23000000\n",
      "  23000000]\n",
      "index: Index(['Minecraft', 'Grand Theft Auto V', 'Tetris (EA)', 'Wii Sports',\n",
      "       'PUBG: Battlegrounds', 'Mario Kart 8 / Deluxe', 'Super Mario Bros.',\n",
      "       'Red Dead Redemption 2', 'Pokémon Red / Green / Blue / Yellow',\n",
      "       'Terraria', 'Wii Fit / Plus', 'Tetris (1989)', 'Pac-Man',\n",
      "       'Animal Crossing: New Horizons', 'Human: Fall Flat',\n",
      "       'The Witcher 3 / Hearts of Stone / Blood and Wine', 'Mario Kart Wii',\n",
      "       'Wii Sports Resort', 'New Super Mario Bros.',\n",
      "       'The Legend of Zelda: Breath of the Wild', 'Super Smash Bros. Ultimate',\n",
      "       'New Super Mario Bros. Wii', 'Call of Duty: Modern Warfare',\n",
      "       'Diablo III / Reaper of Souls', 'The Elder Scrolls V: Skyrim',\n",
      "       'Pokémon Gold / Silver / Crystal', 'Duck Hunt', 'Wii Play',\n",
      "       'The Walking Dead', 'Grand Theft Auto: San Andreas',\n",
      "       'Super Mario World', 'Call of Duty: Modern Warfare 3',\n",
      "       'Call of Duty: Black Ops', 'Borderlands 2', 'Pokémon Sword / Shield',\n",
      "       'Pokémon Sun / Moon / Ultra Sun / Ultra Moon', 'Super Mario Odyssey',\n",
      "       'Grand Theft Auto IV', 'Pokémon Diamond / Pearl / Platinum',\n",
      "       'Super Mario Bros. 3', 'Call of Duty: Black Ops II', 'FIFA 18',\n",
      "       'Kinect Adventures!', 'Sonic the Hedgehog', 'Nintendogs',\n",
      "       'New Super Mario Bros. U / Luigi U / Deluxe', 'Mario Kart DS',\n",
      "       'Pokémon Ruby / Sapphire / Emerald', 'God of War',\n",
      "       'Red Dead Redemption'],\n",
      "      dtype='object', name='Title')\n",
      "axes: [Index(['Minecraft', 'Grand Theft Auto V', 'Tetris (EA)', 'Wii Sports',\n",
      "       'PUBG: Battlegrounds', 'Mario Kart 8 / Deluxe', 'Super Mario Bros.',\n",
      "       'Red Dead Redemption 2', 'Pokémon Red / Green / Blue / Yellow',\n",
      "       'Terraria', 'Wii Fit / Plus', 'Tetris (1989)', 'Pac-Man',\n",
      "       'Animal Crossing: New Horizons', 'Human: Fall Flat',\n",
      "       'The Witcher 3 / Hearts of Stone / Blood and Wine', 'Mario Kart Wii',\n",
      "       'Wii Sports Resort', 'New Super Mario Bros.',\n",
      "       'The Legend of Zelda: Breath of the Wild', 'Super Smash Bros. Ultimate',\n",
      "       'New Super Mario Bros. Wii', 'Call of Duty: Modern Warfare',\n",
      "       'Diablo III / Reaper of Souls', 'The Elder Scrolls V: Skyrim',\n",
      "       'Pokémon Gold / Silver / Crystal', 'Duck Hunt', 'Wii Play',\n",
      "       'The Walking Dead', 'Grand Theft Auto: San Andreas',\n",
      "       'Super Mario World', 'Call of Duty: Modern Warfare 3',\n",
      "       'Call of Duty: Black Ops', 'Borderlands 2', 'Pokémon Sword / Shield',\n",
      "       'Pokémon Sun / Moon / Ultra Sun / Ultra Moon', 'Super Mario Odyssey',\n",
      "       'Grand Theft Auto IV', 'Pokémon Diamond / Pearl / Platinum',\n",
      "       'Super Mario Bros. 3', 'Call of Duty: Black Ops II', 'FIFA 18',\n",
      "       'Kinect Adventures!', 'Sonic the Hedgehog', 'Nintendogs',\n",
      "       'New Super Mario Bros. U / Luigi U / Deluxe', 'Mario Kart DS',\n",
      "       'Pokémon Ruby / Sapphire / Emerald', 'God of War',\n",
      "       'Red Dead Redemption'],\n",
      "      dtype='object', name='Title')]\n",
      "dtype: int64\n"
     ]
    }
   ],
   "source": [
    "series_example = pd.read_csv(\"best-selling-video-games.csv\", index_col = \"Title\")[\"Sales\"]\n",
    "print(series_example)\n",
    "print(\"size: {}\".format(series_example.size))\n",
    "print(\"shape: {}\".format(series_example.shape))\n",
    "print(\"is_unique: {}\".format(series_example.is_unique))\n",
    "print(\"hasnans: {}\".format(series_example.hasnans))\n",
    "print(\"values: {}\".format(series_example.values))\n",
    "print(\"index: {}\".format(series_example.index))\n",
    "print(\"axes: {}\".format(series_example.axes))\n",
    "print(\"dtype: {}\".format(series_example.dtype))"
   ]
  },
  {
   "cell_type": "markdown",
   "id": "e9f1337f",
   "metadata": {},
   "source": [
    "## Series Methods\n",
    "\n",
    "Commonly used series attributes are summarized in the table below.\n",
    "\n",
    "| Method Name | Description |\n",
    "|:------ |:----------- |\n",
    "| .head(n=5), .tail(n=5) | Display the first and last n items in the series. Default value for n is 5. |\n",
    "| .info() | A summary of the series including index and data type. |\n",
    "| .count() | The number of non-NA/null items in the series. |\n",
    "| .nunique() | Count the number of unique non-NA/null values in the series. |\n",
    "| .sum() | Sum of all items (applicable to numeric data types). |\n",
    "| .product() | Product of all items (applicable to numeric data types). |\n",
    "| .mean() | Mean of all items (applicable to numeric data types). |\n",
    "| .std() | Standard deviation of all items (applicable to numeric data types). |\n",
    "| .median() | Median of all items (applicable to numeric data types). |\n",
    "| .mode() | The mode of all items (applicable to any data type). |\n",
    "| .min(), .max() | Min and max of all items (applicable to any ordered data type). |\n",
    "| .value_counts() | Group the values and count the number in each group. Useful when the values are of categories (applicable to any data type). |\n",
    "| .sort_values(ascending = True, inplace = False) | Sort the values (the indices move along with the values). 'ascending' is a boolean parameter; 'inplace' updates the series in place if set to True. |\n",
    "| .sort_index(ascending = True, inplace = False) | Sort the index (the values move along with the indices). 'ascending' is a boolean parameter; 'inplace' updates the series in place if set to True. |\n",
    "| .copy() | Duplicate a series decoupled from its origin. |\n",
    "| .get(key) | Get a particular item from the series using the index key. |\n",
    "| .dropna() | Remove rows with NaN (applicable to series with missing data). |\n",
    "| .fillna(value) | Replace NaN with the specified value (applicable to series with missing data). |\n",
    "| .apply(func) | Apply a function 'func' to each item in a series. |\n",
    "| .map(mapping) | Map the value of each item in a series using an association (dictionary, function, or series) defined by 'mapping'. |\n",
    "| .astype(dtype) | Change data type to the specified 'dtype'. |\n"
   ]
  },
  {
   "cell_type": "code",
   "execution_count": 12,
   "id": "31a29788",
   "metadata": {},
   "outputs": [
    {
     "name": "stdout",
     "output_type": "stream",
     "text": [
      "#----------\n",
      ".head(): \n",
      " Title\n",
      "Minecraft              238000000\n",
      "Grand Theft Auto V     175000000\n",
      "Tetris (EA)            100000000\n",
      "Wii Sports              82900000\n",
      "PUBG: Battlegrounds     75000000\n",
      "Name: Sales, dtype: int64\n",
      "#----------\n",
      ".tail(): \n",
      " Title\n",
      "New Super Mario Bros. U / Luigi U / Deluxe    23640000\n",
      "Mario Kart DS                                 23600000\n",
      "Pokémon Ruby / Sapphire / Emerald             23280000\n",
      "God of War                                    23000000\n",
      "Red Dead Redemption                           23000000\n",
      "Name: Sales, dtype: int64\n",
      "#----------\n",
      "<class 'pandas.core.series.Series'>\n",
      "Index: 5 entries, Minecraft to PUBG: Battlegrounds\n",
      "Series name: Sales\n",
      "Non-Null Count  Dtype\n",
      "--------------  -----\n",
      "5 non-null      int64\n",
      "dtypes: int64(1)\n",
      "memory usage: 80.0+ bytes\n",
      ".info(): \n",
      " None\n",
      "#----------\n",
      ".count(): \n",
      " 5\n",
      "#----------\n",
      ".nunique(): \n",
      " 5\n",
      "#----------\n",
      ".sum(): \n",
      " 670900000\n",
      "#----------\n",
      ".product(): \n",
      " 7537240835054632960\n",
      "#----------\n",
      ".mean(): \n",
      " 134180000.0\n",
      "#----------\n",
      ".std(): \n",
      " 70258536.84784505\n",
      "#----------\n",
      ".median(): \n",
      " 100000000.0\n",
      "#----------\n",
      ".mode(): \n",
      " 0     75000000\n",
      "1     82900000\n",
      "2    100000000\n",
      "3    175000000\n",
      "4    238000000\n",
      "Name: Sales, dtype: int64\n",
      "#----------\n",
      ".min(): \n",
      " 75000000\n",
      "#----------\n",
      ".max(): \n",
      " 238000000\n",
      "#----------\n",
      ".sort_values(): \n",
      " Title\n",
      "PUBG: Battlegrounds     75000000\n",
      "Wii Sports              82900000\n",
      "Tetris (EA)            100000000\n",
      "Grand Theft Auto V     175000000\n",
      "Minecraft              238000000\n",
      "Name: Sales, dtype: int64\n",
      "#----------\n",
      ".sort_index(): \n",
      " Title\n",
      "Grand Theft Auto V     175000000\n",
      "Minecraft              238000000\n",
      "PUBG: Battlegrounds     75000000\n",
      "Tetris (EA)            100000000\n",
      "Wii Sports              82900000\n",
      "Name: Sales, dtype: int64\n"
     ]
    }
   ],
   "source": [
    "series_example = pd.read_csv(\"best-selling-video-games.csv\", index_col = \"Title\")[\"Sales\"]\n",
    "print(\"#----------\")\n",
    "print(\".head(): \\n {}\".format(series_example.head()))\n",
    "print(\"#----------\")\n",
    "print(\".tail(): \\n {}\".format(series_example.tail()))\n",
    "series_example = series_example.head() # for simplicity\n",
    "print(\"#----------\")\n",
    "print(\".info(): \\n {}\".format(series_example.info()))\n",
    "print(\"#----------\")\n",
    "print(\".count(): \\n {}\".format(series_example.count()))\n",
    "print(\"#----------\")\n",
    "print(\".nunique(): \\n {}\".format(series_example.nunique()))\n",
    "print(\"#----------\")\n",
    "print(\".sum(): \\n {}\".format(series_example.sum()))\n",
    "print(\"#----------\")\n",
    "print(\".product(): \\n {}\".format(series_example.product()))\n",
    "print(\"#----------\")\n",
    "print(\".mean(): \\n {}\".format(series_example.mean()))\n",
    "print(\"#----------\")\n",
    "print(\".std(): \\n {}\".format(series_example.std()))\n",
    "print(\"#----------\")\n",
    "print(\".median(): \\n {}\".format(series_example.median()))\n",
    "print(\"#----------\")\n",
    "print(\".mode(): \\n {}\".format(series_example.mode()))\n",
    "print(\"#----------\")\n",
    "print(\".min(): \\n {}\".format(series_example.min()))\n",
    "print(\"#----------\")\n",
    "print(\".max(): \\n {}\".format(series_example.max()))\n",
    "print(\"#----------\")\n",
    "print(\".sort_values(): \\n {}\".format(series_example.sort_values()))\n",
    "print(\"#----------\")\n",
    "print(\".sort_index(): \\n {}\".format(series_example.sort_index()))"
   ]
  },
  {
   "cell_type": "markdown",
   "id": "71b8ec27",
   "metadata": {},
   "source": [
    "Other methods such as `.value_counts()`, etc., are introduced later."
   ]
  },
  {
   "cell_type": "markdown",
   "id": "a5b39511",
   "metadata": {},
   "source": [
    "### Aggregating Methods\n",
    "\n",
    "Aggregating methods such as counting the number of elements in a series, calculating maximun, minimum, mean values, etc., have already been introduced in the example above. An example to introduce `.value_counts()` is given below. From this example, we can see how many games each publisher makes to the list. The return is also a pandas series."
   ]
  },
  {
   "cell_type": "code",
   "execution_count": 13,
   "id": "697e5726",
   "metadata": {},
   "outputs": [
    {
     "name": "stdout",
     "output_type": "stream",
     "text": [
      "Nintendo                          22\n",
      "Rockstar Games                     5\n",
      "Activision                         4\n",
      "Nintendo / The Pokémon Company     4\n",
      "Xbox Game Studios                  2\n",
      "Re-Logic / 505 Games               1\n",
      "Namco                              1\n",
      "Curve Digital                      1\n",
      "CD Projekt                         1\n",
      "PUBG Corporation                   1\n",
      "Blizzard Entertainment             1\n",
      "Bethesda Softworks                 1\n",
      "Telltale Games                     1\n",
      "2K Games                           1\n",
      "Electronic Arts                    1\n",
      "EA Sports                          1\n",
      "Sega                               1\n",
      "Sony Interactive Entertainment     1\n",
      "Name: Publisher(s), dtype: int64\n",
      "<class 'pandas.core.series.Series'>\n"
     ]
    }
   ],
   "source": [
    "series_example = pd.read_csv(\"best-selling-video-games.csv\", index_col = \"Title\")[\"Publisher(s)\"]\n",
    "publisher_games_counts = series_example.value_counts()\n",
    "print(publisher_games_counts)\n",
    "print(type(publisher_games_counts))"
   ]
  },
  {
   "cell_type": "markdown",
   "id": "06cd093a",
   "metadata": {},
   "source": [
    "### The `.apply()` Method\n",
    "\n",
    "Define a function in Python. The `.apply()` method allows running that functions to each and every element in the series in an element wise manner. It saves the trouble of forming a for-loop function. An example is given below. The return is also a pandas series."
   ]
  },
  {
   "cell_type": "code",
   "execution_count": 14,
   "id": "54bbde8b",
   "metadata": {},
   "outputs": [
    {
     "data": {
      "text/plain": [
       "Title\n",
       "Minecraft                                             high\n",
       "Grand Theft Auto V                                    high\n",
       "Tetris (EA)                                           high\n",
       "Wii Sports                                            high\n",
       "PUBG: Battlegrounds                                   high\n",
       "Mario Kart 8 / Deluxe                                 high\n",
       "Super Mario Bros.                                     high\n",
       "Red Dead Redemption 2                               normal\n",
       "Pokémon Red / Green / Blue / Yellow                 normal\n",
       "Terraria                                            normal\n",
       "Wii Fit / Plus                                      normal\n",
       "Tetris (1989)                                       normal\n",
       "Pac-Man                                             normal\n",
       "Animal Crossing: New Horizons                       normal\n",
       "Human: Fall Flat                                    normal\n",
       "The Witcher 3 / Hearts of Stone / Blood and Wine    normal\n",
       "Mario Kart Wii                                      normal\n",
       "Wii Sports Resort                                   normal\n",
       "New Super Mario Bros.                               normal\n",
       "The Legend of Zelda: Breath of the Wild             normal\n",
       "Super Smash Bros. Ultimate                          normal\n",
       "New Super Mario Bros. Wii                           normal\n",
       "Call of Duty: Modern Warfare                        normal\n",
       "Diablo III / Reaper of Souls                        normal\n",
       "The Elder Scrolls V: Skyrim                         normal\n",
       "Pokémon Gold / Silver / Crystal                     normal\n",
       "Duck Hunt                                           normal\n",
       "Wii Play                                            normal\n",
       "The Walking Dead                                    normal\n",
       "Grand Theft Auto: San Andreas                       normal\n",
       "Super Mario World                                   normal\n",
       "Call of Duty: Modern Warfare 3                      normal\n",
       "Call of Duty: Black Ops                             normal\n",
       "Borderlands 2                                       normal\n",
       "Pokémon Sword / Shield                              normal\n",
       "Pokémon Sun / Moon / Ultra Sun / Ultra Moon         normal\n",
       "Super Mario Odyssey                                 normal\n",
       "Grand Theft Auto IV                                 normal\n",
       "Pokémon Diamond / Pearl / Platinum                  normal\n",
       "Super Mario Bros. 3                                 normal\n",
       "Call of Duty: Black Ops II                          normal\n",
       "FIFA 18                                             normal\n",
       "Kinect Adventures!                                  normal\n",
       "Sonic the Hedgehog                                  normal\n",
       "Nintendogs                                          normal\n",
       "New Super Mario Bros. U / Luigi U / Deluxe          normal\n",
       "Mario Kart DS                                       normal\n",
       "Pokémon Ruby / Sapphire / Emerald                   normal\n",
       "God of War                                          normal\n",
       "Red Dead Redemption                                 normal\n",
       "Name: Sales, dtype: object"
      ]
     },
     "execution_count": 14,
     "metadata": {},
     "output_type": "execute_result"
    }
   ],
   "source": [
    "def evaluate_sales(total_sales: int):\n",
    "    if total_sales > 50000000:\n",
    "        return \"high\"\n",
    "    return \"normal\"\n",
    "\n",
    "series_example = pd.read_csv(\"best-selling-video-games.csv\", index_col = \"Title\")[\"Sales\"]\n",
    "evaluate_result = series_example.apply(evaluate_sales)\n",
    "evaluate_result"
   ]
  },
  {
   "cell_type": "markdown",
   "id": "de4ca434",
   "metadata": {},
   "source": [
    "### The `.map()` Method\n",
    "\n",
    "The `.map()` method is a special case of `.apply()` method. It is also an element-wise operation and returns a new panda series. Each element in the new series is obtained from a predefined association. An example is given below."
   ]
  },
  {
   "cell_type": "code",
   "execution_count": 15,
   "id": "72193a72",
   "metadata": {},
   "outputs": [
    {
     "data": {
      "text/plain": [
       "Title\n",
       "Minecraft                                           very high\n",
       "Grand Theft Auto V                                  very high\n",
       "Tetris (EA)                                         very high\n",
       "Wii Sports                                          very high\n",
       "PUBG: Battlegrounds                                 very high\n",
       "Mario Kart 8 / Deluxe                               very high\n",
       "Super Mario Bros.                                   very high\n",
       "Red Dead Redemption 2                                    high\n",
       "Pokémon Red / Green / Blue / Yellow                      high\n",
       "Terraria                                                 high\n",
       "Wii Fit / Plus                                           high\n",
       "Tetris (1989)                                            high\n",
       "Pac-Man                                                  high\n",
       "Animal Crossing: New Horizons                            high\n",
       "Human: Fall Flat                                         high\n",
       "The Witcher 3 / Hearts of Stone / Blood and Wine         high\n",
       "Mario Kart Wii                                           high\n",
       "Wii Sports Resort                                        high\n",
       "New Super Mario Bros.                                    high\n",
       "The Legend of Zelda: Breath of the Wild                  high\n",
       "Super Smash Bros. Ultimate                               high\n",
       "New Super Mario Bros. Wii                                high\n",
       "Call of Duty: Modern Warfare                             high\n",
       "Diablo III / Reaper of Souls                             high\n",
       "The Elder Scrolls V: Skyrim                              high\n",
       "Pokémon Gold / Silver / Crystal                          high\n",
       "Duck Hunt                                                high\n",
       "Wii Play                                                 high\n",
       "The Walking Dead                                         high\n",
       "Grand Theft Auto: San Andreas                            high\n",
       "Super Mario World                                        high\n",
       "Call of Duty: Modern Warfare 3                           high\n",
       "Call of Duty: Black Ops                                  high\n",
       "Borderlands 2                                            high\n",
       "Pokémon Sword / Shield                                   high\n",
       "Pokémon Sun / Moon / Ultra Sun / Ultra Moon              high\n",
       "Super Mario Odyssey                                      high\n",
       "Grand Theft Auto IV                                      high\n",
       "Pokémon Diamond / Pearl / Platinum                       high\n",
       "Super Mario Bros. 3                                      high\n",
       "Call of Duty: Black Ops II                               high\n",
       "FIFA 18                                                  high\n",
       "Kinect Adventures!                                       high\n",
       "Sonic the Hedgehog                                       high\n",
       "Nintendogs                                               high\n",
       "New Super Mario Bros. U / Luigi U / Deluxe               high\n",
       "Mario Kart DS                                            high\n",
       "Pokémon Ruby / Sapphire / Emerald                        high\n",
       "God of War                                               high\n",
       "Red Dead Redemption                                      high\n",
       "Name: Sales, dtype: object"
      ]
     },
     "execution_count": 15,
     "metadata": {},
     "output_type": "execute_result"
    }
   ],
   "source": [
    "def evaluate_sales(total_sales: int):\n",
    "    if total_sales > 50000000:\n",
    "        return \"high\"\n",
    "    return \"normal\"\n",
    "\n",
    "series_example = pd.read_csv(\"best-selling-video-games.csv\", index_col = \"Title\")[\"Sales\"]\n",
    "evaluate_result = series_example.apply(evaluate_sales)\n",
    "\n",
    "evaluate_result_update_dic = {\n",
    "    \"high\": \"very high\",\n",
    "    \"normal\": \"high\",\n",
    "}\n",
    "\n",
    "evaluate_result = evaluate_result.map(evaluate_result_update_dic)\n",
    "evaluate_result"
   ]
  },
  {
   "cell_type": "markdown",
   "id": "b463c232",
   "metadata": {},
   "source": [
    "### The `.astype()` Method"
   ]
  },
  {
   "cell_type": "code",
   "execution_count": null,
   "id": "e923257d",
   "metadata": {},
   "outputs": [],
   "source": []
  }
 ],
 "metadata": {
  "kernelspec": {
   "display_name": "Python 3 (ipykernel)",
   "language": "python",
   "name": "python3"
  },
  "language_info": {
   "codemirror_mode": {
    "name": "ipython",
    "version": 3
   },
   "file_extension": ".py",
   "mimetype": "text/x-python",
   "name": "python",
   "nbconvert_exporter": "python",
   "pygments_lexer": "ipython3",
   "version": "3.10.11"
  }
 },
 "nbformat": 4,
 "nbformat_minor": 5
}
